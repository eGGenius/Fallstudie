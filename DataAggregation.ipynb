{
 "cells": [
  {
   "cell_type": "code",
   "execution_count": null,
   "id": "f9e58ff3",
   "metadata": {},
   "outputs": [],
   "source": [
    "import requests\n",
    "import json\n",
    "import ast\n",
    "import pandas as pd\n",
    "import gitlab"
   ]
  },
  {
   "cell_type": "code",
   "execution_count": null,
   "id": "7c91c1bb",
   "metadata": {},
   "outputs": [],
   "source": [
    "url = \"https://gitlab.intern.fsz.de/api/v4/projects/11/repository/commits/765f2353/diff\"\n",
    "\n",
    "headers = {\n",
    "    'PRIVATE-TOKEN': \"yMMwYZmJUuCvH_RQsjpy\"\n",
    "    }\n",
    " \n",
    "response = requests.request(\"GET\", url, headers=headers, verify=False)\n",
    "\n",
    "print(response.text[:40000])"
   ]
  },
  {
   "cell_type": "markdown",
   "id": "52052594",
   "metadata": {},
   "source": [
    "## get all Tags for Cockpit"
   ]
  },
  {
   "cell_type": "code",
   "execution_count": null,
   "id": "84d9c1d7",
   "metadata": {},
   "outputs": [],
   "source": [
    "url = \"https://gitlab.intern.fsz.de/api/v4/projects/11/repository/tags\"\n",
    "\n",
    "headers = {\n",
    "    'PRIVATE-TOKEN': \"yMMwYZmJUuCvH_RQsjpy\",\n",
    "    'per_page': '100'\n",
    "    }\n",
    "\n",
    "data = requests.request(\"GET\", url, headers=headers, verify=False).text\n",
    "tags_data = json.dumps(json.loads(data), indent=4)\n",
    "print(tags)\n",
    "\n",
    "cockpit_tags = open(\"cockpit_tags.json\", \"w\")\n",
    "cockpit_tags.write(tags_data)\n",
    "cockpit_tags.close()"
   ]
  },
  {
   "cell_type": "code",
   "execution_count": null,
   "id": "ad36f76a",
   "metadata": {},
   "outputs": [],
   "source": [
    "# get all tags as list\n",
    "tags = []\n",
    "for x in json.loads(tags_data):\n",
    "  tags.append(x['name'])\n"
   ]
  },
  {
   "cell_type": "code",
   "execution_count": null,
   "id": "c1852818",
   "metadata": {},
   "outputs": [],
   "source": [
    "print(tags)"
   ]
  },
  {
   "cell_type": "code",
   "execution_count": null,
   "id": "f312553b",
   "metadata": {},
   "outputs": [],
   "source": [
    "headers = {\n",
    "    'PRIVATE-TOKEN': \"yMMwYZmJUuCvH_RQsjpy\",\n",
    "    'per_page': '100'\n",
    "    }\n",
    "commits = []\n",
    "for x in range(3):\n",
    "  url = \"https://gitlab.intern.fsz.de/api/v4/projects/11/repository/commits/\" + tags[x] + \"/diff\"\n",
    "\n",
    "  data = requests.request(\"GET\", url, headers=headers, verify=False).text\n",
    "  print(data)\n",
    "  commits_data = json.dumps(json.loads(data), indent=4)\n",
    "  commits.append(commits_data)\n"
   ]
  },
  {
   "cell_type": "code",
   "execution_count": null,
   "id": "78ce418a",
   "metadata": {},
   "outputs": [],
   "source": [
    "commit_ids = ['765f2353013aab8179d53c45d1287babf9254021',\n",
    "'2f5ef43dc004d2630f83fef3b98619c10fd9b8ee',\n",
    "'27544d9c1daed40cbea12c754cc360e3e03a569f',\n",
    "'ca8ec5d59f127525ad59f68b936dc3c980503731',\n",
    "'6b7e609f3c9d2fa7d70f39a6ea208f1bdfefb306',\n",
    "'163d925d06cf8c903593ed7ffadf413037f9bc1c',\n",
    "'b5f78e320a2f41e8d972b7ba2e742cd784ad6149',\n",
    "'909e9a3314dfb2721cd4733147b5034a330e3a86',\n",
    "'913274fdb403a4f67b8c454d63a86af26e7429a1',\n",
    "'49db2c8df718ab7747d0cb96f98ce1c9d1636ed6',\n",
    "'bafe490cad9e231a5066186061e63a6f03a25a62',\n",
    "'39221b7af18ef67cbc64ae0eebff1dd2d27e4dae',\n",
    "'c7bf229630a7a8020b5fa822e1122d00e5d82054',\n",
    "'622d93c81dc0a8ad667f9f9cdfabe736fca5f8e2',\n",
    "'5847623b4dc8620b4cb299421c3a909adf1e7995',\n",
    "'f91e9ca41c72ac7b157a8c760b32389518d68f24',\n",
    "'c6017b0fdee12f05fd3680d4f4e4dc5a24462ebd',\n",
    "'b035536f5af57f2c19ea0cabcb34af4cb0208360',\n",
    "'2744f2af59ec7152b135f04e222ae11e12c0d569',\n",
    "'a295ecc8a564ba6438a8f3f23dee180898dc17b1',]\n",
    "print(commit_ids[0])"
   ]
  },
  {
   "cell_type": "code",
   "execution_count": 102,
   "id": "9680671d",
   "metadata": {},
   "outputs": [
    {
     "name": "stdout",
     "output_type": "stream",
     "text": [
      "[{\"old_path\":\"resources/js/base/fbplugins/AttachmentsPlugins/AttachmentUpload.js\",\"new_path\":\"resources/js/base/fbplugins/AttachmentsPlugins/AttachmentUpload.js\",\"a_mode\":\"100644\",\"b_mode\":\"100644\",\"new_file\":false,\"renamed_file\":false,\"deleted_file\":false,\"diff\":\"@@ -810,7 +810,7 @@ Ext.namespace( 'CP.ux.fbPlugin.AttachmentsPlugin' );\\n                 saveButton.setText( _( 'CP.upload' ) );\\n             }\\n             else {\\n-                if ( this.type == 'File' ) {\\n+                if ( this.ciId.toLowerCase().indexOf( 'new' ) === -1 \\u0026\\u0026 this.type === 'File' ) {\\n                     fileName  = this.originalName;\\n                     extension = this.extension;\\n                 }\\n\"},{\"old_path\":\"resources/js/cockpit/fbplugins/DocumentManagementObjects/DocumentUpload.js\",\"new_path\":\"resources/js/cockpit/fbplugins/DocumentManagementObjects/DocumentUpload.js\",\"a_mode\":\"100644\",\"b_mode\":\"100644\",\"new_file\":false,\"renamed_file\":false,\"deleted_file\":false,\"diff\":\"@@ -813,7 +813,7 @@ Ext.namespace( 'CP.ux.fbPlugin.DocumentManagement' );\\n                 saveButton.setText( _( 'CP.upload' ) );\\n             }\\n             else {\\n-                if ( this.type == 'File' ) {\\n+                if ( this.ciId.toLowerCase().indexOf( 'new' ) === -1 \\u0026\\u0026 this.type === 'File' ) {\\n                     fileName  = this.originalName;\\n                     extension = this.extension;\\n                 }\\n\"}]\n"
     ]
    },
    {
     "name": "stderr",
     "output_type": "stream",
     "text": [
      "/Users/jonathanmaier/opt/anaconda3/envs/Fallstudie/lib/python3.8/site-packages/urllib3/connectionpool.py:1013: InsecureRequestWarning: Unverified HTTPS request is being made to host 'gitlab.intern.fsz.de'. Adding certificate verification is strongly advised. See: https://urllib3.readthedocs.io/en/1.26.x/advanced-usage.html#ssl-warnings\n",
      "  warnings.warn(\n"
     ]
    }
   ],
   "source": [
    "headers = {\n",
    "    'PRIVATE-TOKEN': \"yMMwYZmJUuCvH_RQsjpy\",\n",
    "    'per_page': '100'\n",
    "    }\n",
    "    \n",
    "x = {\n",
    "  \"name\": \"John\",\n",
    "  \"age\": 30,\n",
    "  \"city\": \"New York\"\n",
    "}\n",
    "\n",
    "json_commits = json.dumps(x)\n",
    "\n",
    "for x in range(1):\n",
    "  url = \"https://gitlab.intern.fsz.de/api/v4/projects/11/repository/commits/\" + commit_ids[x] + \"/diff\"\n",
    "\n",
    "  data = requests.request(\"GET\", url, headers=headers, verify=False).text\n",
    "  json_commits\n",
    "  print(data)\n"
   ]
  },
  {
   "cell_type": "code",
   "execution_count": null,
   "id": "f54b7f10",
   "metadata": {},
   "outputs": [],
   "source": []
  },
  {
   "cell_type": "code",
   "execution_count": null,
   "id": "71292ed9",
   "metadata": {},
   "outputs": [],
   "source": []
  },
  {
   "cell_type": "code",
   "execution_count": null,
   "id": "5f70885a",
   "metadata": {},
   "outputs": [],
   "source": []
  },
  {
   "cell_type": "code",
   "execution_count": null,
   "id": "48ef4f4d",
   "metadata": {},
   "outputs": [],
   "source": []
  },
  {
   "cell_type": "code",
   "execution_count": null,
   "id": "add09e96",
   "metadata": {},
   "outputs": [],
   "source": []
  },
  {
   "cell_type": "code",
   "execution_count": null,
   "id": "5bcde2e8",
   "metadata": {},
   "outputs": [],
   "source": [
    "import gitlab\n",
    "\n",
    "# private token or personal token authentication\n",
    "gl = gitlab.Gitlab('https://gitlab.intern.fsz.de', private_token='yMMwYZmJUuCvH_RQsjpy', ssl_verify=False)\n",
    "\n",
    "# make an API request to create the gl.user object. This is mandatory if you\n",
    "# use the username/password authentication.\n",
    "gl.auth()"
   ]
  },
  {
   "cell_type": "code",
   "execution_count": 94,
   "id": "7ac7a8b4",
   "metadata": {},
   "outputs": [
    {
     "name": "stderr",
     "output_type": "stream",
     "text": [
      "/Users/jonathanmaier/opt/anaconda3/envs/Fallstudie/lib/python3.8/site-packages/urllib3/connectionpool.py:1013: InsecureRequestWarning: Unverified HTTPS request is being made to host 'gitlab.intern.fsz.de'. Adding certificate verification is strongly advised. See: https://urllib3.readthedocs.io/en/1.26.x/advanced-usage.html#ssl-warnings\n",
      "  warnings.warn(\n",
      "/Users/jonathanmaier/opt/anaconda3/envs/Fallstudie/lib/python3.8/site-packages/urllib3/connectionpool.py:1013: InsecureRequestWarning: Unverified HTTPS request is being made to host 'gitlab.intern.fsz.de'. Adding certificate verification is strongly advised. See: https://urllib3.readthedocs.io/en/1.26.x/advanced-usage.html#ssl-warnings\n",
      "  warnings.warn(\n"
     ]
    }
   ],
   "source": [
    "project = gl.projects.get(11)\n",
    "commits = project.commits.list(since='2019-1-01T00:00:00Z')"
   ]
  },
  {
   "cell_type": "code",
   "execution_count": 95,
   "id": "0c30411e",
   "metadata": {},
   "outputs": [
    {
     "name": "stdout",
     "output_type": "stream",
     "text": [
      "[<ProjectCommit id:765f2353013aab8179d53c45d1287babf9254021>, <ProjectCommit id:2f5ef43dc004d2630f83fef3b98619c10fd9b8ee>, <ProjectCommit id:27544d9c1daed40cbea12c754cc360e3e03a569f>, <ProjectCommit id:ca8ec5d59f127525ad59f68b936dc3c980503731>, <ProjectCommit id:6b7e609f3c9d2fa7d70f39a6ea208f1bdfefb306>, <ProjectCommit id:163d925d06cf8c903593ed7ffadf413037f9bc1c>, <ProjectCommit id:b5f78e320a2f41e8d972b7ba2e742cd784ad6149>, <ProjectCommit id:909e9a3314dfb2721cd4733147b5034a330e3a86>, <ProjectCommit id:913274fdb403a4f67b8c454d63a86af26e7429a1>, <ProjectCommit id:49db2c8df718ab7747d0cb96f98ce1c9d1636ed6>, <ProjectCommit id:bafe490cad9e231a5066186061e63a6f03a25a62>, <ProjectCommit id:39221b7af18ef67cbc64ae0eebff1dd2d27e4dae>, <ProjectCommit id:c7bf229630a7a8020b5fa822e1122d00e5d82054>, <ProjectCommit id:622d93c81dc0a8ad667f9f9cdfabe736fca5f8e2>, <ProjectCommit id:5847623b4dc8620b4cb299421c3a909adf1e7995>, <ProjectCommit id:f91e9ca41c72ac7b157a8c760b32389518d68f24>, <ProjectCommit id:c6017b0fdee12f05fd3680d4f4e4dc5a24462ebd>, <ProjectCommit id:b035536f5af57f2c19ea0cabcb34af4cb0208360>, <ProjectCommit id:2744f2af59ec7152b135f04e222ae11e12c0d569>, <ProjectCommit id:a295ecc8a564ba6438a8f3f23dee180898dc17b1>]\n"
     ]
    }
   ],
   "source": [
    "print(commits)"
   ]
  },
  {
   "cell_type": "code",
   "execution_count": null,
   "id": "09a38686",
   "metadata": {},
   "outputs": [],
   "source": []
  },
  {
   "cell_type": "code",
   "execution_count": null,
   "id": "3cacb7b6",
   "metadata": {},
   "outputs": [],
   "source": []
  },
  {
   "cell_type": "code",
   "execution_count": null,
   "id": "9f36b626",
   "metadata": {},
   "outputs": [],
   "source": []
  },
  {
   "cell_type": "code",
   "execution_count": null,
   "id": "2ce24afc",
   "metadata": {},
   "outputs": [],
   "source": []
  },
  {
   "cell_type": "code",
   "execution_count": null,
   "id": "1a5a2154",
   "metadata": {},
   "outputs": [],
   "source": []
  },
  {
   "cell_type": "code",
   "execution_count": null,
   "id": "8dbe6965",
   "metadata": {},
   "outputs": [],
   "source": []
  },
  {
   "cell_type": "code",
   "execution_count": null,
   "id": "b9490df7",
   "metadata": {},
   "outputs": [],
   "source": []
  },
  {
   "cell_type": "code",
   "execution_count": null,
   "id": "d5ca42db",
   "metadata": {},
   "outputs": [],
   "source": [
    "print(projects)"
   ]
  },
  {
   "cell_type": "code",
   "execution_count": null,
   "id": "01bd4ec6",
   "metadata": {},
   "outputs": [],
   "source": []
  },
  {
   "cell_type": "code",
   "execution_count": null,
   "id": "51b8d63f",
   "metadata": {},
   "outputs": [],
   "source": []
  },
  {
   "cell_type": "code",
   "execution_count": null,
   "id": "e4be5422",
   "metadata": {},
   "outputs": [],
   "source": []
  },
  {
   "cell_type": "code",
   "execution_count": null,
   "id": "251eb0e5",
   "metadata": {},
   "outputs": [],
   "source": []
  },
  {
   "cell_type": "code",
   "execution_count": null,
   "id": "21d398a9",
   "metadata": {},
   "outputs": [],
   "source": [
    "print(projects)"
   ]
  },
  {
   "cell_type": "code",
   "execution_count": null,
   "id": "b9b6785b",
   "metadata": {},
   "outputs": [],
   "source": []
  },
  {
   "cell_type": "code",
   "execution_count": null,
   "id": "60af32c5",
   "metadata": {},
   "outputs": [],
   "source": []
  },
  {
   "cell_type": "code",
   "execution_count": null,
   "id": "2e841031",
   "metadata": {},
   "outputs": [],
   "source": []
  },
  {
   "cell_type": "code",
   "execution_count": null,
   "id": "4df89bc5",
   "metadata": {},
   "outputs": [],
   "source": []
  },
  {
   "cell_type": "code",
   "execution_count": null,
   "id": "e8e9864a",
   "metadata": {},
   "outputs": [],
   "source": []
  },
  {
   "cell_type": "code",
   "execution_count": null,
   "id": "e1c9b1e5",
   "metadata": {},
   "outputs": [],
   "source": []
  },
  {
   "cell_type": "code",
   "execution_count": null,
   "id": "88500275",
   "metadata": {},
   "outputs": [],
   "source": []
  },
  {
   "cell_type": "code",
   "execution_count": null,
   "id": "789a5876",
   "metadata": {},
   "outputs": [],
   "source": []
  },
  {
   "cell_type": "code",
   "execution_count": null,
   "id": "d4273bcc",
   "metadata": {},
   "outputs": [],
   "source": []
  },
  {
   "cell_type": "code",
   "execution_count": null,
   "id": "e82889c2",
   "metadata": {},
   "outputs": [],
   "source": []
  },
  {
   "cell_type": "code",
   "execution_count": null,
   "id": "d63e88b3",
   "metadata": {},
   "outputs": [],
   "source": []
  },
  {
   "cell_type": "code",
   "execution_count": null,
   "id": "b6d1fdd8",
   "metadata": {},
   "outputs": [],
   "source": []
  },
  {
   "cell_type": "code",
   "execution_count": null,
   "id": "64d89a27",
   "metadata": {},
   "outputs": [],
   "source": []
  },
  {
   "cell_type": "code",
   "execution_count": null,
   "id": "19d33ce8",
   "metadata": {},
   "outputs": [],
   "source": []
  },
  {
   "cell_type": "code",
   "execution_count": null,
   "id": "8dd9edac",
   "metadata": {},
   "outputs": [],
   "source": []
  },
  {
   "cell_type": "code",
   "execution_count": null,
   "id": "4f610db2",
   "metadata": {},
   "outputs": [],
   "source": [
    "print(commits[0])"
   ]
  },
  {
   "cell_type": "code",
   "execution_count": null,
   "id": "7d24fb66",
   "metadata": {},
   "outputs": [],
   "source": [
    "print(json.dumps(commits))"
   ]
  },
  {
   "cell_type": "code",
   "execution_count": null,
   "id": "7e73b417",
   "metadata": {},
   "outputs": [],
   "source": []
  },
  {
   "cell_type": "code",
   "execution_count": null,
   "id": "5ff83291",
   "metadata": {},
   "outputs": [],
   "source": []
  },
  {
   "cell_type": "code",
   "execution_count": null,
   "id": "52a2ef98",
   "metadata": {},
   "outputs": [],
   "source": []
  },
  {
   "cell_type": "code",
   "execution_count": null,
   "id": "62913908",
   "metadata": {},
   "outputs": [],
   "source": []
  },
  {
   "cell_type": "code",
   "execution_count": null,
   "id": "231dcda2",
   "metadata": {},
   "outputs": [],
   "source": []
  },
  {
   "cell_type": "code",
   "execution_count": null,
   "id": "89fce04b",
   "metadata": {},
   "outputs": [],
   "source": []
  },
  {
   "cell_type": "code",
   "execution_count": null,
   "id": "d450d699",
   "metadata": {},
   "outputs": [],
   "source": []
  },
  {
   "cell_type": "code",
   "execution_count": null,
   "id": "a6ffbc96",
   "metadata": {},
   "outputs": [],
   "source": []
  },
  {
   "cell_type": "code",
   "execution_count": null,
   "id": "64b9f1ac",
   "metadata": {},
   "outputs": [],
   "source": []
  },
  {
   "cell_type": "code",
   "execution_count": null,
   "id": "86f175e8",
   "metadata": {},
   "outputs": [],
   "source": []
  },
  {
   "cell_type": "code",
   "execution_count": null,
   "id": "d1b1d99b",
   "metadata": {},
   "outputs": [],
   "source": []
  }
 ],
 "metadata": {
  "kernelspec": {
   "display_name": "Python 3 (ipykernel)",
   "language": "python",
   "name": "python3"
  },
  "language_info": {
   "codemirror_mode": {
    "name": "ipython",
    "version": 3
   },
   "file_extension": ".py",
   "mimetype": "text/x-python",
   "name": "python",
   "nbconvert_exporter": "python",
   "pygments_lexer": "ipython3",
   "version": "3.8.12"
  }
 },
 "nbformat": 4,
 "nbformat_minor": 5
}
