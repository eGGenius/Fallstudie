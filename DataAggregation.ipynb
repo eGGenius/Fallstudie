{
 "cells": [
  {
   "cell_type": "code",
   "execution_count": 18,
   "id": "f9e58ff3",
   "metadata": {},
   "outputs": [],
   "source": [
    "import requests\n",
    "import json\n",
    "import ast\n",
    "import pandas as pd"
   ]
  },
  {
   "cell_type": "code",
   "execution_count": 4,
   "id": "7c91c1bb",
   "metadata": {},
   "outputs": [
    {
     "name": "stdout",
     "output_type": "stream",
     "text": [
      "[{\"old_path\":\"resources/js/base/fbplugins/AttachmentsPlugins/AttachmentUpload.js\",\"new_path\":\"resources/js/base/fbplugins/AttachmentsPlugins/AttachmentUpload.js\",\"a_mode\":\"100644\",\"b_mode\":\"100644\",\"new_file\":false,\"renamed_file\":false,\"deleted_file\":false,\"diff\":\"@@ -810,7 +810,7 @@ Ext.namespace( 'CP.ux.fbPlugin.AttachmentsPlugin' );\\n                 saveButton.setText( _( 'CP.upload' ) );\\n             }\\n             else {\\n-                if ( this.type == 'File' ) {\\n+                if ( this.ciId.toLowerCase().indexOf( 'new' ) === -1 \\u0026\\u0026 this.type === 'File' ) {\\n                     fileName  = this.originalName;\\n                     extension = this.extension;\\n                 }\\n\"},{\"old_path\":\"resources/js/cockpit/fbplugins/DocumentManagementObjects/DocumentUpload.js\",\"new_path\":\"resources/js/cockpit/fbplugins/DocumentManagementObjects/DocumentUpload.js\",\"a_mode\":\"100644\",\"b_mode\":\"100644\",\"new_file\":false,\"renamed_file\":false,\"deleted_file\":false,\"diff\":\"@@ -813,7 +813,7 @@ Ext.namespace( 'CP.ux.fbPlugin.DocumentManagement' );\\n                 saveButton.setText( _( 'CP.upload' ) );\\n             }\\n             else {\\n-                if ( this.type == 'File' ) {\\n+                if ( this.ciId.toLowerCase().indexOf( 'new' ) === -1 \\u0026\\u0026 this.type === 'File' ) {\\n                     fileName  = this.originalName;\\n                     extension = this.extension;\\n                 }\\n\"}]\n"
     ]
    },
    {
     "name": "stderr",
     "output_type": "stream",
     "text": [
      "/Users/jonathanmaier/opt/anaconda3/envs/Fallstudie/lib/python3.8/site-packages/urllib3/connectionpool.py:1013: InsecureRequestWarning: Unverified HTTPS request is being made to host 'gitlab.intern.fsz.de'. Adding certificate verification is strongly advised. See: https://urllib3.readthedocs.io/en/1.26.x/advanced-usage.html#ssl-warnings\n",
      "  warnings.warn(\n"
     ]
    }
   ],
   "source": [
    "url = \"https://gitlab.intern.fsz.de/api/v4/projects/11/repository/commits/765f2353/diff\"\n",
    "\n",
    "headers = {\n",
    "    'PRIVATE-TOKEN': \"yMMwYZmJUuCvH_RQsjpy\"\n",
    "    }\n",
    " \n",
    "response = requests.request(\"GET\", url, headers=headers, verify=False)\n",
    "\n",
    "print(response.text[:40000])"
   ]
  },
  {
   "cell_type": "markdown",
   "id": "52052594",
   "metadata": {},
   "source": [
    "## get all Tags for Cockpit"
   ]
  },
  {
   "cell_type": "code",
   "execution_count": 96,
   "id": "84d9c1d7",
   "metadata": {},
   "outputs": [
    {
     "name": "stderr",
     "output_type": "stream",
     "text": [
      "/Users/jonathanmaier/opt/anaconda3/envs/Fallstudie/lib/python3.8/site-packages/urllib3/connectionpool.py:1013: InsecureRequestWarning: Unverified HTTPS request is being made to host 'gitlab.intern.fsz.de'. Adding certificate verification is strongly advised. See: https://urllib3.readthedocs.io/en/1.26.x/advanced-usage.html#ssl-warnings\n",
      "  warnings.warn(\n"
     ]
    },
    {
     "name": "stdout",
     "output_type": "stream",
     "text": [
      "['4.0.11', '4.0.12.t01', '4.0.10', '4.0.10.t38', '4.0.10.t37', '4.0.10.t36', '4.0.10.t35', '4.0.10.t34', '4.0.10.t33', '4.0.10.t32', '4.0.10.t31', '4.0.10.t30', '4.0.10.t29', '4.0.10.t28', '4.0.10.t27', '4.0.10.t26', '4.0.10.t25', '4.0.10.t24', '4.0.10.t23', '4.0.10.t22']\n"
     ]
    }
   ],
   "source": [
    "url = \"https://gitlab.intern.fsz.de/api/v4/projects/11/repository/tags\"\n",
    "\n",
    "headers = {\n",
    "    'PRIVATE-TOKEN': \"yMMwYZmJUuCvH_RQsjpy\",\n",
    "    'per_page': '100'\n",
    "    }\n",
    "\n",
    "data = requests.request(\"GET\", url, headers=headers, verify=False).text\n",
    "tags_data = json.dumps(json.loads(data), indent=4)\n",
    "print(tags)\n",
    "\n",
    "cockpit_tags = open(\"cockpit_tags.json\", \"w\")\n",
    "cockpit_tags.write(tags_data)\n",
    "cockpit_tags.close()"
   ]
  },
  {
   "cell_type": "code",
   "execution_count": null,
   "id": "f26dcf08",
   "metadata": {},
   "outputs": [],
   "source": []
  },
  {
   "cell_type": "code",
   "execution_count": 97,
   "id": "ad36f76a",
   "metadata": {},
   "outputs": [],
   "source": [
    "# get all tags as list\n",
    "tags = []\n",
    "for x in json.loads(tags_data):\n",
    "  tags.append(x['name'])\n"
   ]
  },
  {
   "cell_type": "code",
   "execution_count": 98,
   "id": "c1852818",
   "metadata": {},
   "outputs": [
    {
     "name": "stdout",
     "output_type": "stream",
     "text": [
      "['4.0.11', '4.0.12.t01', '4.0.10', '4.0.10.t38', '4.0.10.t37', '4.0.10.t36', '4.0.10.t35', '4.0.10.t34', '4.0.10.t33', '4.0.10.t32', '4.0.10.t31', '4.0.10.t30', '4.0.10.t29', '4.0.10.t28', '4.0.10.t27', '4.0.10.t26', '4.0.10.t25', '4.0.10.t24', '4.0.10.t23', '4.0.10.t22']\n"
     ]
    }
   ],
   "source": [
    "print(tags)"
   ]
  },
  {
   "cell_type": "code",
   "execution_count": 103,
   "id": "f312553b",
   "metadata": {},
   "outputs": [
    {
     "name": "stderr",
     "output_type": "stream",
     "text": [
      "/Users/jonathanmaier/opt/anaconda3/envs/Fallstudie/lib/python3.8/site-packages/urllib3/connectionpool.py:1013: InsecureRequestWarning: Unverified HTTPS request is being made to host 'gitlab.intern.fsz.de'. Adding certificate verification is strongly advised. See: https://urllib3.readthedocs.io/en/1.26.x/advanced-usage.html#ssl-warnings\n",
      "  warnings.warn(\n",
      "/Users/jonathanmaier/opt/anaconda3/envs/Fallstudie/lib/python3.8/site-packages/urllib3/connectionpool.py:1013: InsecureRequestWarning: Unverified HTTPS request is being made to host 'gitlab.intern.fsz.de'. Adding certificate verification is strongly advised. See: https://urllib3.readthedocs.io/en/1.26.x/advanced-usage.html#ssl-warnings\n",
      "  warnings.warn(\n"
     ]
    },
    {
     "name": "stdout",
     "output_type": "stream",
     "text": [
      "[{\"old_path\":\".gitlab-ci.yml\",\"new_path\":\".gitlab-ci.yml\",\"a_mode\":\"100644\",\"b_mode\":\"100644\",\"new_file\":false,\"renamed_file\":false,\"deleted_file\":false,\"diff\":\"@@ -65,7 +65,6 @@ build_yoonite_nightly:\\n         - branches@postgresql\\n     script:\\n         - echo \\\"building nightly docker-image for branch postgresql\\\"\\n-        - ls -la ./_devTools/deploy/files/etc/cron.d/\\n         - ./_devTools/deploy/deploy.sh --source . --target docker --product yoonite --environment POSTGRESQL --tag HEAD --nightly\\n \\n \\n\"},{\"old_path\":\"_devTools/deploy/deploy.sh\",\"new_path\":\"_devTools/deploy/deploy.sh\",\"a_mode\":\"100755\",\"b_mode\":\"100755\",\"new_file\":false,\"renamed_file\":false,\"deleted_file\":false,\"diff\":\"@@ -314,9 +314,8 @@ function deployToLocalDir {\\n function deployToNightlyDockerImage {\\n     # deploy to temp cockpit_dist directory and build docker image\\n     eval rsync -a --no-o --no-g \\\"${PHP_INCLUDES}\\\" --include=\\\"*-min.js\\\" --include=\\\"*-min.css\\\" --include=\\\"node/***\\\" --exclude-from=$TEMPDIR/_devTools/deploy/exclude.txt $TEMPDIR/ $TEMPDIR/_devTools/deploy/cockpit_dist\\n+    chmod -R u+rwX,go+rX-w $TEMPDIR/_devTools/deploy/files/ $TEMPDIR/_devTools/deploy/cockpit_dist/\\n     IMAGE=${DOCKER_IMAGE_BASE}/${PRODUCT}:nightly\\n-    echo \\\"DIR: $TEMPDIR/_devTools/deploy/files/etc/cron.d/\\\"\\n-    ls -la $TEMPDIR/_devTools/deploy/files/etc/cron.d/\\n     docker build --pull -t ${IMAGE} $TEMPDIR/_devTools/deploy\\n     docker push ${IMAGE}\\n }\\n@@ -324,6 +323,7 @@ function deployToNightlyDockerImage {\\n function deployToDockerImage {\\n     # deploy to temp cockpit_dist directory and build docker image\\n     eval rsync -a --no-o --no-g \\\"${PHP_INCLUDES}\\\" --include=\\\"*-min.js\\\" --include=\\\"*-min.css\\\" --include=\\\"node/***\\\" --exclude-from=$TEMPDIR/_devTools/deploy/exclude.txt $TEMPDIR/ $TEMPDIR/_devTools/deploy/cockpit_dist\\n+    chmod -R u+rwX,go+rX-w $TEMPDIR/_devTools/deploy/files/ $TEMPDIR/_devTools/deploy/cockpit_dist/\\n \\n     if [ \\\"${PRODUCT}\\\" = \\\"cockpit\\\" ]; then\\n         IMAGE=${DOCKER_IMAGE_BASE}/cockpit-pg\\n\"}]\n",
      "[{\"old_path\":\"php/base/service/special/QueryBuilderDataService.php\",\"new_path\":\"php/base/service/special/QueryBuilderDataService.php\",\"a_mode\":\"100755\",\"b_mode\":\"100755\",\"new_file\":false,\"renamed_file\":false,\"deleted_file\":false,\"diff\":\"@@ -382,7 +382,7 @@ class QueryBuilderDataService extends DataService {\\n                     $sWhereName = $this-\\u003egetPropertyFieldSelector( $field );\\n                 }\\n                 else {\\n-                    $sWhereName = $this-\\u003eformAggregatorFunction( $field[ 'aggregator' ], $field[ 'tableKey' ] . '.' . $field[ 'kind' ] );\\n+                    $sWhereName = $this-\\u003eformAggregatorFunction( $field[ 'aggregator' ], $this-\\u003egetPropertyFieldSelector( $field ) );\\n                 }\\n \\n                 if ( isset( $field[ 'filter' ] ) ) {\\n\"}]\n",
      "[{\"old_path\":\"resources/js/base/BaseView/TreeMenuView/CacheTreeMenuView.js\",\"new_path\":\"resources/js/base/BaseView/TreeMenuView/CacheTreeMenuView.js\",\"a_mode\":\"100644\",\"b_mode\":\"100644\",\"new_file\":false,\"renamed_file\":false,\"deleted_file\":false,\"diff\":\"@@ -995,6 +995,7 @@\\n                     data = {\\n                         CIR_ID        : ciIdSrc + '-' + reference.CIR_CIRT_ID + '-' + ciIdDest,\\n                         CIR_CIRT_ID   : reference.CIR_CIRT_ID,\\n+                        CIR_CIRS_ID   : reference.CIR_CIRS_ID,\\n                         CIR_CI_ID_SRC : ciIdSrc,\\n                         CIR_CI_ID_DEST: ciIdDest\\n                     };\\n\"},{\"old_path\":\"resources/js/base/data/CiCacheUtils.js\",\"new_path\":\"resources/js/base/data/CiCacheUtils.js\",\"a_mode\":\"100644\",\"b_mode\":\"100644\",\"new_file\":false,\"renamed_file\":false,\"deleted_file\":false,\"diff\":\"@@ -1,5 +1,5 @@\\n /*\\n- *  Some expressive description \\n+ *  Some expressive description\\n  */\\n \\n // definitions for JSlint, do not remove!\\n@@ -19,18 +19,21 @@\\n             var retVal = false,\\n                 citId1, citId2,\\n                 cirtId,\\n-                rset;\\n+                rset,\\n+                cirsId;\\n \\n             if ( ciId1 \\u0026\\u0026 ciId2 \\u0026\\u0026 cirtName ) {\\n                 citId1 = citName1 ? CP.ciCache.getCiTypeIdByName( citName1 ) : CP.ciCache.getCiTypeIdByCiId( ciId1 + '', context );\\n                 citId2 = citName2 ? CP.ciCache.getCiTypeIdByName( citName2 ) : CP.ciCache.getCiTypeIdByCiId( ciId2 + '', context );\\n                 cirtId = cirtName * 1 == cirtName ? cirtName * 1 : CP.metaModel.getReferenceTypeIdByName( cirtName );\\n-                rset = CP.ciCache.getCiRSet( citId1, citId2, cirtId ) || CP.ciCache.getCiRSet( citId2, citId1, cirtId );\\n+                rset = CP.ciCache.getCiRSet( citId1, citId2, cirtId ) || CP.ciCache.getCiRSet( citId2, citId1, cirtId );\\n+                cirsId = rset ? rset.CIRS_ID : undefined;\\n                 if ( rset ) {\\n                     retVal = {\\n                         CIR_ID        : citId1 === rset.CIRS_CIT_ID_SRC ? ciId1 + '-' + cirtId + '-' + ciId2 : ciId2 + '-' + cirtId + '-' + ciId1,\\n                         CIR_CI_ID_SRC : citId1 === rset.CIRS_CIT_ID_SRC ? ciId1 : ciId2,\\n                         CIR_CIRT_ID   : cirtId,\\n+                        CIR_CIRS_ID   : cirsId,\\n                         CIR_CI_ID_DEST: citId2 === rset.CIRS_CIT_ID_DEST ? ciId2 : ciId1,\\n                     }\\n                 }\\n\"}]\n"
     ]
    },
    {
     "name": "stderr",
     "output_type": "stream",
     "text": [
      "/Users/jonathanmaier/opt/anaconda3/envs/Fallstudie/lib/python3.8/site-packages/urllib3/connectionpool.py:1013: InsecureRequestWarning: Unverified HTTPS request is being made to host 'gitlab.intern.fsz.de'. Adding certificate verification is strongly advised. See: https://urllib3.readthedocs.io/en/1.26.x/advanced-usage.html#ssl-warnings\n",
      "  warnings.warn(\n"
     ]
    }
   ],
   "source": [
    "headers = {\n",
    "    'PRIVATE-TOKEN': \"yMMwYZmJUuCvH_RQsjpy\",\n",
    "    'per_page': '100'\n",
    "    }\n",
    "commits = []\n",
    "for x in range(3):\n",
    "  url = \"https://gitlab.intern.fsz.de/api/v4/projects/11/repository/commits/\" + tags[x] + \"/diff\"\n",
    "\n",
    "  data = requests.request(\"GET\", url, headers=headers, verify=False).text\n",
    "  print(data)\n",
    "  commits_data = json.dumps(json.loads(data), indent=4)\n",
    "  commits.append(commits_data)\n"
   ]
  },
  {
   "cell_type": "code",
   "execution_count": 105,
   "id": "3fbe23d2",
   "metadata": {},
   "outputs": [
    {
     "name": "stdout",
     "output_type": "stream",
     "text": [
      "[{\"old_path\":\"resources/js/base/BaseView/TreeMenuView/CacheTreeMenuView.js\",\"new_path\":\"resources/js/base/BaseView/TreeMenuView/CacheTreeMenuView.js\",\"a_mode\":\"100644\",\"b_mode\":\"100644\",\"new_file\":false,\"renamed_file\":false,\"deleted_file\":false,\"diff\":\"@@ -995,6 +995,7 @@\\n                     data = {\\n                         CIR_ID        : ciIdSrc + '-' + reference.CIR_CIRT_ID + '-' + ciIdDest,\\n                         CIR_CIRT_ID   : reference.CIR_CIRT_ID,\\n+                        CIR_CIRS_ID   : reference.CIR_CIRS_ID,\\n                         CIR_CI_ID_SRC : ciIdSrc,\\n                         CIR_CI_ID_DEST: ciIdDest\\n                     };\\n\"},{\"old_path\":\"resources/js/base/data/CiCacheUtils.js\",\"new_path\":\"resources/js/base/data/CiCacheUtils.js\",\"a_mode\":\"100644\",\"b_mode\":\"100644\",\"new_file\":false,\"renamed_file\":false,\"deleted_file\":false,\"diff\":\"@@ -1,5 +1,5 @@\\n /*\\n- *  Some expressive description \\n+ *  Some expressive description\\n  */\\n \\n // definitions for JSlint, do not remove!\\n@@ -19,18 +19,21 @@\\n             var retVal = false,\\n                 citId1, citId2,\\n                 cirtId,\\n-                rset;\\n+                rset,\\n+                cirsId;\\n \\n             if ( ciId1 \\u0026\\u0026 ciId2 \\u0026\\u0026 cirtName ) {\\n                 citId1 = citName1 ? CP.ciCache.getCiTypeIdByName( citName1 ) : CP.ciCache.getCiTypeIdByCiId( ciId1 + '', context );\\n                 citId2 = citName2 ? CP.ciCache.getCiTypeIdByName( citName2 ) : CP.ciCache.getCiTypeIdByCiId( ciId2 + '', context );\\n                 cirtId = cirtName * 1 == cirtName ? cirtName * 1 : CP.metaModel.getReferenceTypeIdByName( cirtName );\\n-                rset = CP.ciCache.getCiRSet( citId1, citId2, cirtId ) || CP.ciCache.getCiRSet( citId2, citId1, cirtId );\\n+                rset = CP.ciCache.getCiRSet( citId1, citId2, cirtId ) || CP.ciCache.getCiRSet( citId2, citId1, cirtId );\\n+                cirsId = rset ? rset.CIRS_ID : undefined;\\n                 if ( rset ) {\\n                     retVal = {\\n                         CIR_ID        : citId1 === rset.CIRS_CIT_ID_SRC ? ciId1 + '-' + cirtId + '-' + ciId2 : ciId2 + '-' + cirtId + '-' + ciId1,\\n                         CIR_CI_ID_SRC : citId1 === rset.CIRS_CIT_ID_SRC ? ciId1 : ciId2,\\n                         CIR_CIRT_ID   : cirtId,\\n+                        CIR_CIRS_ID   : cirsId,\\n                         CIR_CI_ID_DEST: citId2 === rset.CIRS_CIT_ID_DEST ? ciId2 : ciId1,\\n                     }\\n                 }\\n\"}]\n"
     ]
    }
   ],
   "source": [
    "print(jasondata)"
   ]
  },
  {
   "cell_type": "code",
   "execution_count": null,
   "id": "448cbc58",
   "metadata": {},
   "outputs": [],
   "source": []
  },
  {
   "cell_type": "code",
   "execution_count": null,
   "id": "4a4aeecc",
   "metadata": {},
   "outputs": [],
   "source": []
  },
  {
   "cell_type": "code",
   "execution_count": 104,
   "id": "4e1c0a14",
   "metadata": {},
   "outputs": [
    {
     "name": "stdout",
     "output_type": "stream",
     "text": [
      "['[\\n    {\\n        \"old_path\": \".gitlab-ci.yml\",\\n        \"new_path\": \".gitlab-ci.yml\",\\n        \"a_mode\": \"100644\",\\n        \"b_mode\": \"100644\",\\n        \"new_file\": false,\\n        \"renamed_file\": false,\\n        \"deleted_file\": false,\\n        \"diff\": \"@@ -65,7 +65,6 @@ build_yoonite_nightly:\\\\n         - branches@postgresql\\\\n     script:\\\\n         - echo \\\\\"building nightly docker-image for branch postgresql\\\\\"\\\\n-        - ls -la ./_devTools/deploy/files/etc/cron.d/\\\\n         - ./_devTools/deploy/deploy.sh --source . --target docker --product yoonite --environment POSTGRESQL --tag HEAD --nightly\\\\n \\\\n \\\\n\"\\n    },\\n    {\\n        \"old_path\": \"_devTools/deploy/deploy.sh\",\\n        \"new_path\": \"_devTools/deploy/deploy.sh\",\\n        \"a_mode\": \"100755\",\\n        \"b_mode\": \"100755\",\\n        \"new_file\": false,\\n        \"renamed_file\": false,\\n        \"deleted_file\": false,\\n        \"diff\": \"@@ -314,9 +314,8 @@ function deployToLocalDir {\\\\n function deployToNightlyDockerImage {\\\\n     # deploy to temp cockpit_dist directory and build docker image\\\\n     eval rsync -a --no-o --no-g \\\\\"${PHP_INCLUDES}\\\\\" --include=\\\\\"*-min.js\\\\\" --include=\\\\\"*-min.css\\\\\" --include=\\\\\"node/***\\\\\" --exclude-from=$TEMPDIR/_devTools/deploy/exclude.txt $TEMPDIR/ $TEMPDIR/_devTools/deploy/cockpit_dist\\\\n+    chmod -R u+rwX,go+rX-w $TEMPDIR/_devTools/deploy/files/ $TEMPDIR/_devTools/deploy/cockpit_dist/\\\\n     IMAGE=${DOCKER_IMAGE_BASE}/${PRODUCT}:nightly\\\\n-    echo \\\\\"DIR: $TEMPDIR/_devTools/deploy/files/etc/cron.d/\\\\\"\\\\n-    ls -la $TEMPDIR/_devTools/deploy/files/etc/cron.d/\\\\n     docker build --pull -t ${IMAGE} $TEMPDIR/_devTools/deploy\\\\n     docker push ${IMAGE}\\\\n }\\\\n@@ -324,6 +323,7 @@ function deployToNightlyDockerImage {\\\\n function deployToDockerImage {\\\\n     # deploy to temp cockpit_dist directory and build docker image\\\\n     eval rsync -a --no-o --no-g \\\\\"${PHP_INCLUDES}\\\\\" --include=\\\\\"*-min.js\\\\\" --include=\\\\\"*-min.css\\\\\" --include=\\\\\"node/***\\\\\" --exclude-from=$TEMPDIR/_devTools/deploy/exclude.txt $TEMPDIR/ $TEMPDIR/_devTools/deploy/cockpit_dist\\\\n+    chmod -R u+rwX,go+rX-w $TEMPDIR/_devTools/deploy/files/ $TEMPDIR/_devTools/deploy/cockpit_dist/\\\\n \\\\n     if [ \\\\\"${PRODUCT}\\\\\" = \\\\\"cockpit\\\\\" ]; then\\\\n         IMAGE=${DOCKER_IMAGE_BASE}/cockpit-pg\\\\n\"\\n    }\\n]', '[\\n    {\\n        \"old_path\": \"php/base/service/special/QueryBuilderDataService.php\",\\n        \"new_path\": \"php/base/service/special/QueryBuilderDataService.php\",\\n        \"a_mode\": \"100755\",\\n        \"b_mode\": \"100755\",\\n        \"new_file\": false,\\n        \"renamed_file\": false,\\n        \"deleted_file\": false,\\n        \"diff\": \"@@ -382,7 +382,7 @@ class QueryBuilderDataService extends DataService {\\\\n                     $sWhereName = $this->getPropertyFieldSelector( $field );\\\\n                 }\\\\n                 else {\\\\n-                    $sWhereName = $this->formAggregatorFunction( $field[ \\'aggregator\\' ], $field[ \\'tableKey\\' ] . \\'.\\' . $field[ \\'kind\\' ] );\\\\n+                    $sWhereName = $this->formAggregatorFunction( $field[ \\'aggregator\\' ], $this->getPropertyFieldSelector( $field ) );\\\\n                 }\\\\n \\\\n                 if ( isset( $field[ \\'filter\\' ] ) ) {\\\\n\"\\n    }\\n]', '[\\n    {\\n        \"old_path\": \"resources/js/base/BaseView/TreeMenuView/CacheTreeMenuView.js\",\\n        \"new_path\": \"resources/js/base/BaseView/TreeMenuView/CacheTreeMenuView.js\",\\n        \"a_mode\": \"100644\",\\n        \"b_mode\": \"100644\",\\n        \"new_file\": false,\\n        \"renamed_file\": false,\\n        \"deleted_file\": false,\\n        \"diff\": \"@@ -995,6 +995,7 @@\\\\n                     data = {\\\\n                         CIR_ID        : ciIdSrc + \\'-\\' + reference.CIR_CIRT_ID + \\'-\\' + ciIdDest,\\\\n                         CIR_CIRT_ID   : reference.CIR_CIRT_ID,\\\\n+                        CIR_CIRS_ID   : reference.CIR_CIRS_ID,\\\\n                         CIR_CI_ID_SRC : ciIdSrc,\\\\n                         CIR_CI_ID_DEST: ciIdDest\\\\n                     };\\\\n\"\\n    },\\n    {\\n        \"old_path\": \"resources/js/base/data/CiCacheUtils.js\",\\n        \"new_path\": \"resources/js/base/data/CiCacheUtils.js\",\\n        \"a_mode\": \"100644\",\\n        \"b_mode\": \"100644\",\\n        \"new_file\": false,\\n        \"renamed_file\": false,\\n        \"deleted_file\": false,\\n        \"diff\": \"@@ -1,5 +1,5 @@\\\\n /*\\\\n- *  Some expressive description \\\\n+ *  Some expressive description\\\\n  */\\\\n \\\\n // definitions for JSlint, do not remove!\\\\n@@ -19,18 +19,21 @@\\\\n             var retVal = false,\\\\n                 citId1, citId2,\\\\n                 cirtId,\\\\n-                rset;\\\\n+                rset,\\\\n+                cirsId;\\\\n \\\\n             if ( ciId1 && ciId2 && cirtName ) {\\\\n                 citId1 = citName1 ? CP.ciCache.getCiTypeIdByName( citName1 ) : CP.ciCache.getCiTypeIdByCiId( ciId1 + \\'\\', context );\\\\n                 citId2 = citName2 ? CP.ciCache.getCiTypeIdByName( citName2 ) : CP.ciCache.getCiTypeIdByCiId( ciId2 + \\'\\', context );\\\\n                 cirtId = cirtName * 1 == cirtName ? cirtName * 1 : CP.metaModel.getReferenceTypeIdByName( cirtName );\\\\n-                rset = CP.ciCache.getCiRSet( citId1, citId2, cirtId ) ||\\\\u00a0CP.ciCache.getCiRSet( citId2, citId1, cirtId );\\\\n+                rset = CP.ciCache.getCiRSet( citId1, citId2, cirtId ) || CP.ciCache.getCiRSet( citId2, citId1, cirtId );\\\\n+                cirsId = rset ? rset.CIRS_ID : undefined;\\\\n                 if ( rset ) {\\\\n                     retVal = {\\\\n                         CIR_ID        : citId1 === rset.CIRS_CIT_ID_SRC ? ciId1 + \\'-\\' + cirtId + \\'-\\' + ciId2 : ciId2 + \\'-\\' + cirtId + \\'-\\' + ciId1,\\\\n                         CIR_CI_ID_SRC : citId1 === rset.CIRS_CIT_ID_SRC ? ciId1 : ciId2,\\\\n                         CIR_CIRT_ID   : cirtId,\\\\n+                        CIR_CIRS_ID   : cirsId,\\\\n                         CIR_CI_ID_DEST: citId2 === rset.CIRS_CIT_ID_DEST ? ciId2 : ciId1,\\\\n                     }\\\\n                 }\\\\n\"\\n    }\\n]']\n"
     ]
    }
   ],
   "source": [
    "print(commits)"
   ]
  },
  {
   "cell_type": "code",
   "execution_count": null,
   "id": "78ce418a",
   "metadata": {},
   "outputs": [],
   "source": []
  },
  {
   "cell_type": "code",
   "execution_count": null,
   "id": "4f610db2",
   "metadata": {},
   "outputs": [],
   "source": []
  },
  {
   "cell_type": "code",
   "execution_count": null,
   "id": "7d24fb66",
   "metadata": {},
   "outputs": [],
   "source": []
  },
  {
   "cell_type": "code",
   "execution_count": null,
   "id": "5ff83291",
   "metadata": {},
   "outputs": [],
   "source": []
  },
  {
   "cell_type": "code",
   "execution_count": null,
   "id": "52a2ef98",
   "metadata": {},
   "outputs": [],
   "source": []
  },
  {
   "cell_type": "code",
   "execution_count": null,
   "id": "62913908",
   "metadata": {},
   "outputs": [],
   "source": []
  },
  {
   "cell_type": "code",
   "execution_count": null,
   "id": "231dcda2",
   "metadata": {},
   "outputs": [],
   "source": []
  },
  {
   "cell_type": "code",
   "execution_count": null,
   "id": "89fce04b",
   "metadata": {},
   "outputs": [],
   "source": []
  },
  {
   "cell_type": "code",
   "execution_count": null,
   "id": "d450d699",
   "metadata": {},
   "outputs": [],
   "source": []
  },
  {
   "cell_type": "code",
   "execution_count": null,
   "id": "a6ffbc96",
   "metadata": {},
   "outputs": [],
   "source": []
  },
  {
   "cell_type": "code",
   "execution_count": null,
   "id": "64b9f1ac",
   "metadata": {},
   "outputs": [],
   "source": []
  },
  {
   "cell_type": "code",
   "execution_count": null,
   "id": "86f175e8",
   "metadata": {},
   "outputs": [],
   "source": []
  },
  {
   "cell_type": "code",
   "execution_count": null,
   "id": "d1b1d99b",
   "metadata": {},
   "outputs": [],
   "source": []
  }
 ],
 "metadata": {
  "kernelspec": {
   "display_name": "Python 3 (ipykernel)",
   "language": "python",
   "name": "python3"
  },
  "language_info": {
   "codemirror_mode": {
    "name": "ipython",
    "version": 3
   },
   "file_extension": ".py",
   "mimetype": "text/x-python",
   "name": "python",
   "nbconvert_exporter": "python",
   "pygments_lexer": "ipython3",
   "version": "3.8.12"
  }
 },
 "nbformat": 4,
 "nbformat_minor": 5
}
